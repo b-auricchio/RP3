{
 "cells": [
  {
   "attachments": {},
   "cell_type": "markdown",
   "metadata": {},
   "source": [
    "Rename folders to more useful indexing system"
   ]
  },
  {
   "cell_type": "code",
   "execution_count": 79,
   "metadata": {
    "tags": []
   },
   "outputs": [
    {
     "name": "stdout",
     "output_type": "stream",
     "text": [
      "Couldn't find program: 'False'\n"
     ]
    }
   ],
   "source": [
    "%%script False\n",
    "import os \n",
    "\n",
    "path = './data/inat_birds/'\n",
    "\n",
    "for i, folder in enumerate(os.listdir(path)):\n",
    "    os.rename(os.path.join(path, folder), os.path.join(path, ''.join([str(i)])))\n"
   ]
  },
  {
   "attachments": {},
   "cell_type": "markdown",
   "metadata": {},
   "source": [
    "Display class sizes"
   ]
  },
  {
   "cell_type": "code",
   "execution_count": 86,
   "metadata": {},
   "outputs": [
    {
     "name": "stdout",
     "output_type": "stream",
     "text": [
      "Smallest class: 88\n",
      "Largest class: 503\n"
     ]
    }
   ],
   "source": [
    "import os \n",
    "\n",
    "classes = dict()\n",
    "path = './data/inat_birds/'\n",
    "\n",
    "for i, folder in enumerate(os.listdir(path)):\n",
    "    files = os.listdir(os.path.join(path,folder))\n",
    "    classes[int(folder)] = len(files)\n",
    "\n",
    "classes = dict(sorted(classes.items()))\n",
    "\n",
    "print('Smallest class: ' + str(min(list(classes.values()))))\n",
    "print('Largest class: ' + str(max(list(classes.values()))))"
   ]
  },
  {
   "attachments": {},
   "cell_type": "markdown",
   "metadata": {},
   "source": [
    "Make CSV file from images and annotations"
   ]
  },
  {
   "cell_type": "code",
   "execution_count": 87,
   "metadata": {},
   "outputs": [],
   "source": [
    "\n",
    "import os \n",
    "import pandas as pd\n",
    "import numpy as np\n",
    "\n",
    "data = []\n",
    "\n",
    "path = '.\\data\\inat_birds'\n",
    "for folder in (os.listdir(path)):\n",
    "    folder_path = os.path.join(path,folder)\n",
    "    files = os.listdir(folder_path)\n",
    "    for file in files:\n",
    "        file_path = os.path.join(folder_path,file)\n",
    "        data.append([str(file_path), str(folder)])\n",
    "\n",
    "\n",
    "np.savetxt(\"inat_birds.csv\", \n",
    "           data,\n",
    "           delimiter =\", \", \n",
    "           fmt ='% s')"
   ]
  },
  {
   "attachments": {},
   "cell_type": "markdown",
   "metadata": {},
   "source": [
    "Multi-class dataset"
   ]
  },
  {
   "cell_type": "code",
   "execution_count": 88,
   "metadata": {},
   "outputs": [],
   "source": [
    "from sklearn.model_selection import train_test_split\n",
    "import random \n",
    "\n",
    "split_ratio = 0.2 #make 20% val data\n",
    "\n",
    "random.shuffle(data)\n",
    "\n",
    "train, test = train_test_split(data, test_size=split_ratio)"
   ]
  },
  {
   "attachments": {},
   "cell_type": "markdown",
   "metadata": {},
   "source": [
    "Generate binary classification dataset"
   ]
  },
  {
   "cell_type": "code",
   "execution_count": 83,
   "metadata": {},
   "outputs": [],
   "source": [
    "import random, csv\n",
    "import numpy as np\n",
    "\n",
    "num_classes = len(classes)\n",
    "num_out_of_set = 40 #randomly select 40 species to be 'out of set'\n",
    "\n",
    "out_set_ids = list(random.sample(range(0,num_classes),num_out_of_set))\n",
    "for line in train:\n",
    "    if int(line[1]) in out_set_ids:\n",
    "        line[1] = 0    #out of set species are labelled with 0\n",
    "    else:\n",
    "        line[1] = 1\n",
    "\n",
    "for line in test:\n",
    "    if int(line[1]) in out_set_ids:\n",
    "        line[1] = 0    #out of set species are labelled with 0\n",
    "    else:\n",
    "        line[1] = 1 "
   ]
  },
  {
   "attachments": {},
   "cell_type": "markdown",
   "metadata": {},
   "source": [
    "Save to csv"
   ]
  },
  {
   "cell_type": "code",
   "execution_count": 89,
   "metadata": {},
   "outputs": [],
   "source": [
    "np.savetxt(\"inat_birds_train.csv\", \n",
    "           train,\n",
    "           delimiter =\", \", \n",
    "           fmt ='% s')\n",
    "\n",
    "np.savetxt(\"inat_birds_test.csv\", \n",
    "           test,\n",
    "           delimiter =\", \", \n",
    "           fmt ='% s')"
   ]
  }
 ],
 "metadata": {
  "kernelspec": {
   "display_name": "Python 3",
   "language": "python",
   "name": "python3"
  },
  "language_info": {
   "codemirror_mode": {
    "name": "ipython",
    "version": 3
   },
   "file_extension": ".py",
   "mimetype": "text/x-python",
   "name": "python",
   "nbconvert_exporter": "python",
   "pygments_lexer": "ipython3",
   "version": "3.10.10"
  },
  "orig_nbformat": 4,
  "vscode": {
   "interpreter": {
    "hash": "3d110795fddee6e05b5593a47585ab6bb1c05452018a75f59bfc50f6792478dc"
   }
  }
 },
 "nbformat": 4,
 "nbformat_minor": 2
}
